{
  "nbformat": 4,
  "nbformat_minor": 0,
  "metadata": {
    "colab": {
      "provenance": [],
      "authorship_tag": "ABX9TyOlQn23wK3kOdsdM4zoobrM",
      "include_colab_link": true
    },
    "kernelspec": {
      "name": "python3",
      "display_name": "Python 3"
    },
    "language_info": {
      "name": "python"
    }
  },
  "cells": [
    {
      "cell_type": "markdown",
      "metadata": {
        "id": "view-in-github",
        "colab_type": "text"
      },
      "source": [
        "<a href=\"https://colab.research.google.com/github/codervedant/PYHTON-PROJECTS/blob/main/Automate_File_Segregation_(102).ipynb\" target=\"_parent\"><img src=\"https://colab.research.google.com/assets/colab-badge.svg\" alt=\"Open In Colab\"/></a>"
      ]
    },
    {
      "cell_type": "code",
      "execution_count": null,
      "metadata": {
        "id": "4rKqToaUFhR5"
      },
      "outputs": [],
      "source": [
        "import os\n",
        "import shutil\n",
        "\n",
        "fd = \"C:/Users/gicar/Downloads/New Folder (2)\"\n",
        "td = \"C/Users/gicar/Desktop/Vedant/Whitehatjr/PROJECTS/PYTHON/Automate File Segregation (102)/Documents\"\n",
        "lof = os.listdir(fd)\n",
        "print(lof)\n",
        "\n",
        "for file_name in lof:\n",
        "    \n",
        "    name, extension = os.path.splitext(file_name)\n",
        "    print(name)\n",
        "    print(extension)\n",
        "\n",
        "    if extension == '':\n",
        "        continue\n",
        "    if extension in ['.gif', '.png', '.jpg', '.jpeg','.jfif']:\n",
        "\n",
        "        path1 = fd + '/' + file_name                        \n",
        "        path2 = td + '/' + \"Image_Files\"                        \n",
        "        path3 = td + '/' + \"Image_Files\" + '/' + file_name \n",
        "        print(\"path3 \", path3)\n",
        "\n",
        "        if os.path.exists(path2):\n",
        "          print(\"Moving \" + file_name + \".....\")\n",
        "          shutil.move(path1, path3)\n",
        "        else:\n",
        "          os.makedirs(path2)\n",
        "          print(\"Moving \" + file_name + \".....\")\n",
        "          shutil.move(path1, path3)"
      ]
    }
  ]
}