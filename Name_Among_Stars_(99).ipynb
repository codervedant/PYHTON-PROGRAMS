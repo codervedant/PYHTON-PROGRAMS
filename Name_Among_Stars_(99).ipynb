{
  "nbformat": 4,
  "nbformat_minor": 0,
  "metadata": {
    "colab": {
      "provenance": [],
      "authorship_tag": "ABX9TyOs0aX5wDGSiuF0M5DTeVDZ",
      "include_colab_link": true
    },
    "kernelspec": {
      "name": "python3",
      "display_name": "Python 3"
    },
    "language_info": {
      "name": "python"
    }
  },
  "cells": [
    {
      "cell_type": "markdown",
      "metadata": {
        "id": "view-in-github",
        "colab_type": "text"
      },
      "source": [
        "<a href=\"https://colab.research.google.com/github/codervedant/PYHTON-PROJECTS/blob/main/Name_Among_Stars_(99).ipynb\" target=\"_parent\"><img src=\"https://colab.research.google.com/assets/colab-badge.svg\" alt=\"Open In Colab\"/></a>"
      ]
    },
    {
      "cell_type": "code",
      "execution_count": null,
      "metadata": {
        "colab": {
          "base_uri": "https://localhost:8080/"
        },
        "id": "Q1sP8aoTd7aE",
        "outputId": "104a04aa-411c-4bef-adb9-43d9fca89489"
      },
      "outputs": [
        {
          "output_type": "stream",
          "name": "stdout",
          "text": [
            "Enter your name to see them among the stars -> ghgjki\n",
            "g * * * * * \n",
            "* h * * * * \n",
            "* * g * * * \n",
            "* * * j * * \n",
            "* * * * k * \n",
            "* * * * * i \n"
          ]
        }
      ],
      "source": [
        "name = input(\"Enter your name to see them among the stars -> \")\n",
        "i = len(name)\n",
        "\n",
        "for n in range(0, i, +1):\n",
        "  for o in range(0, i):\n",
        "    if(n == o):\n",
        "      print(name[n], sep = \" \", end = \" \")\n",
        "    else:\n",
        "      print(\"*\", end = \" \")\n",
        "  \n",
        "         \n",
        "  print()"
      ]
    }
  ]
}