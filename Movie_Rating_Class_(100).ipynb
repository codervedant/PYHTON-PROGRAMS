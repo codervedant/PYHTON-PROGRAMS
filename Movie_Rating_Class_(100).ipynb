{
  "nbformat": 4,
  "nbformat_minor": 0,
  "metadata": {
    "colab": {
      "provenance": [],
      "authorship_tag": "ABX9TyOIB45wnagVJAgNJjwUOE9A",
      "include_colab_link": true
    },
    "kernelspec": {
      "name": "python3",
      "display_name": "Python 3"
    },
    "language_info": {
      "name": "python"
    }
  },
  "cells": [
    {
      "cell_type": "markdown",
      "metadata": {
        "id": "view-in-github",
        "colab_type": "text"
      },
      "source": [
        "<a href=\"https://colab.research.google.com/github/codervedant/PYHTON-PROJECTS/blob/main/Movie_Rating_Class_(100).ipynb\" target=\"_parent\"><img src=\"https://colab.research.google.com/assets/colab-badge.svg\" alt=\"Open In Colab\"/></a>"
      ]
    },
    {
      "cell_type": "code",
      "execution_count": null,
      "metadata": {
        "id": "auHG7uRqQ19Y"
      },
      "outputs": [],
      "source": [
        "class moviereview:\n",
        "  def __init__(self, movie, story, actors, music):\n",
        "    self.movie_name = movie\n",
        "    self.story_rating = story\n",
        "    self.actor_rating = actors\n",
        "    self.music_rating = music\n",
        "    \n",
        "    self.avg = int(self.story_rating + self.actor_rating + self.music_rating/3)\n",
        "\n",
        "    self.movie_list = {\n",
        "        \"Movie Name\": self.movie_name,\n",
        "        \"Story Rating\": self.story_rating,\n",
        "        \"Actor Rating\": self.actor_rating,\n",
        "        \"Music Rating\": self.music_rating,\n",
        "        \"Average Rating\" : self.avg,\n",
        "    }\n",
        "\n",
        "  def add_movie_ratings(self, movie_list):\n",
        "    movie_list.append(self.movie_list)\n",
        "\n",
        "  def view_movie_ratings(self,movie_list):\n",
        "    print(movie_list)\n",
        "    print()\n",
        "\n",
        "\n",
        "  def avg_star_rating(self, movie_list):\n",
        "    for movie in movie_list:\n",
        "      if(movie['Average Rating'] == 1):\n",
        "        print(\"Thank you for the Response, You rated the movie with   *\")\n",
        "        print(movie)\n",
        "\n",
        "      elif(movie['Average Rating'] == 2):\n",
        "        print(\"Thank you for the Response, You rated the movie with   **\")\n",
        "        print(movie)\n",
        "\n",
        "      elif(movie['Average Rating'] == 3):\n",
        "        print(\"Thank you for the Response, You rated the movie with   ***\")\n",
        "        print(movie)\n",
        "\n",
        "      elif(movie['Average Rating'] == 4):\n",
        "        print(\"Thank you for the Response, You rated the movie with   ****\")\n",
        "        print(movie)\n",
        "\n",
        "      elif(movie['Average Rating'] == 5):\n",
        "        print(\"Thank you for the Response, You rated the movie with   *****\")\n",
        "        print(movie)\n"
      ]
    },
    {
      "cell_type": "code",
      "source": [
        "MovieReview = moviereview(\"Sita Ramam\", 5, 5, 5)\n",
        "print(MovieReview)\n",
        "moviereviews = []\n",
        "MovieReview.add_movie_ratings(moviereviews)\n",
        "MovieReview.view_movie_ratings(moviereviews)\n",
        "MovieReview.avg_star_rating(moviereviews)"
      ],
      "metadata": {
        "colab": {
          "base_uri": "https://localhost:8080/"
        },
        "id": "2RA42zMp1gzT",
        "outputId": "2c8f21e1-8f48-422d-bb0e-29454fd7ada0"
      },
      "execution_count": null,
      "outputs": [
        {
          "output_type": "stream",
          "name": "stdout",
          "text": [
            "<__main__.moviereview object at 0x7f5430233b50>\n",
            "[{'Movie Name': 'Sita Ramam', 'Story Rating': 5, 'Actor Rating': 5, 'Music Rating': 5, 'Average Rating': 11}]\n",
            "\n"
          ]
        }
      ]
    },
    {
      "cell_type": "code",
      "source": [
        "review2 = moviereview(\"Beautiful Sound\", 5, 5, 5)\n",
        "print(review2)\n",
        "review2.add_movie_ratings(moviereviews)\n",
        "review2.avg_star_rating(moviereviews)\n",
        "review2.view_movie_ratings(moviereviews)\n",
        "print(moviereviews)"
      ],
      "metadata": {
        "id": "u8hEYBiT3kTq",
        "colab": {
          "base_uri": "https://localhost:8080/"
        },
        "outputId": "7ec89701-899f-430a-ebb4-3cd1090478a0"
      },
      "execution_count": null,
      "outputs": [
        {
          "output_type": "stream",
          "name": "stdout",
          "text": [
            "<__main__.moviereview object at 0x7f54302313c0>\n",
            "[{'Movie Name': 'Sita Ramam', 'Story Rating': 5, 'Actor Rating': 5, 'Music Rating': 5, 'Average Rating': 11}, {'Movie Name': 'Beautiful Sound', 'Story Rating': 5, 'Actor Rating': 5, 'Music Rating': 5, 'Average Rating': 11}, {'Movie Name': 'Beautiful Sound', 'Story Rating': 5, 'Actor Rating': 5, 'Music Rating': 5, 'Average Rating': 11}]\n",
            "\n",
            "[{'Movie Name': 'Sita Ramam', 'Story Rating': 5, 'Actor Rating': 5, 'Music Rating': 5, 'Average Rating': 11}, {'Movie Name': 'Beautiful Sound', 'Story Rating': 5, 'Actor Rating': 5, 'Music Rating': 5, 'Average Rating': 11}, {'Movie Name': 'Beautiful Sound', 'Story Rating': 5, 'Actor Rating': 5, 'Music Rating': 5, 'Average Rating': 11}]\n"
          ]
        }
      ]
    }
  ]
}